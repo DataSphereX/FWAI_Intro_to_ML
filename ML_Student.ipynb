{
 "cells": [
  {
   "cell_type": "markdown",
   "metadata": {
    "colab_type": "text",
    "id": "tZMk-RZt-QrI"
   },
   "source": [
    "# Problem Statement"
   ]
  },
  {
   "cell_type": "markdown",
   "metadata": {
    "colab_type": "text",
    "id": "I5_NmI6j-QrL"
   },
   "source": [
    "Five million Americans are currently living with heart diseases, and the numbers are expected to rise. It is very important to understand the factors which causes Heart-attacks so that certain precaution can be taken by individuals. In-order to understand the reasons of the Heart-attack, a data was collected from various hospitals across US which is given in US_Heart_Patients.csv. In the data set there are Heart-Att indicates whether the person suffered from Heart attack or not.\n",
    "Perform EDA on the data and build a model which will predict whether the person will suffer from Heart-attack or not.\n",
    "\n",
    "Our Dataset has following variables:\n",
    "\n",
    "1. **Gender**\t        Male/Female\n",
    "2. **age**             Age of the person\n",
    "3. **education**       1 indicates High School, 2 indicates- Secondary School,3 indicates Graduation, 4 indicates Post Graduation\n",
    "4. **currentSmoker**\t1 Indicates person is a smoker and 0 indicates non- smoker\n",
    "5. **cigsPerDay**    \tNumber of cigrattes consumed in a day\n",
    "6. **BP Meds**\t        1 indidates person is consuming BP medicines and 0 indicates person is not consuming BP medicines\n",
    "7. **prevalentStroke**\t1 indidates person had stroke in the past and 0 indicates person did not suffered from stroke in the past\n",
    "8. **prevalentHyp**\t1 indidates person is suffering from Hypertension  and 0 indicates person is not suffering from hypertension\n",
    "9. **diabetes**\t    1 indicates person is diabatic and 0 indicates person in non-diabetic\n",
    "10. **tot cholesterol**\tIndicates total cholesterol level in the body\n",
    "11. **Systolic BP**\t    Systolic BP of the person\n",
    "12. **Diastolic BP**\tDiastolic BP of the person\n",
    "13. **BMI**\tIndicates   BMI level in the body\n",
    "14. **heartRate**\t    Indicates body heartrate\n",
    "15. **glucose**\t        Glucose level of the body\n",
    "16. **Heart-Att**\t    1 Indicates  person suffered from Heart-attack and 0 indicates that person will not suffer from Heart-at\n",
    "\n"
   ]
  },
  {
   "cell_type": "markdown",
   "metadata": {
    "colab_type": "text",
    "id": "kmKeQYYcGTVp"
   },
   "source": [
    "### Upload Required Libraries"
   ]
  },
  {
   "cell_type": "code",
   "execution_count": null,
   "metadata": {},
   "outputs": [],
   "source": []
  },
  {
   "cell_type": "markdown",
   "metadata": {
    "colab_type": "text",
    "id": "Vbx3QZvT-QrQ"
   },
   "source": [
    "### Importing data"
   ]
  },
  {
   "cell_type": "code",
   "execution_count": null,
   "metadata": {
    "ExecuteTime": {
     "end_time": "2020-09-11T07:12:36.791395Z",
     "start_time": "2020-09-11T07:12:36.772796Z"
    },
    "colab": {},
    "colab_type": "code",
    "id": "L6Yxhq6b-QrR"
   },
   "outputs": [],
   "source": [
    "## Load the csv file available in the working or specified directory\n"
   ]
  },
  {
   "cell_type": "markdown",
   "metadata": {
    "colab_type": "text",
    "id": "fJ83bnL6-QrV"
   },
   "source": [
    "### EDA"
   ]
  },
  {
   "cell_type": "code",
   "execution_count": null,
   "metadata": {
    "ExecuteTime": {
     "end_time": "2020-09-11T07:12:36.955533Z",
     "start_time": "2020-09-11T07:12:36.793698Z"
    },
    "colab": {
     "base_uri": "https://localhost:8080/",
     "height": 200
    },
    "colab_type": "code",
    "id": "K1p4lqVm-QrW",
    "outputId": "6bc753bb-cb79-451b-f333-6883418111ef"
   },
   "outputs": [],
   "source": [
    "# Check top few records to get a feel of the data structure\n"
   ]
  },
  {
   "cell_type": "markdown",
   "metadata": {},
   "source": [
    "\n",
    "#### Shape"
   ]
  },
  {
   "cell_type": "code",
   "execution_count": null,
   "metadata": {
    "ExecuteTime": {
     "end_time": "2020-09-11T07:12:37.023727Z",
     "start_time": "2020-09-11T07:12:36.957671Z"
    }
   },
   "outputs": [],
   "source": []
  },
  {
   "cell_type": "markdown",
   "metadata": {},
   "source": [
    "#### Data type of data features"
   ]
  },
  {
   "cell_type": "code",
   "execution_count": null,
   "metadata": {},
   "outputs": [],
   "source": []
  },
  {
   "cell_type": "markdown",
   "metadata": {},
   "source": [
    "#### checking for Possible columns which are categorical but are not having data type \"object\""
   ]
  },
  {
   "cell_type": "code",
   "execution_count": null,
   "metadata": {},
   "outputs": [],
   "source": []
  },
  {
   "cell_type": "code",
   "execution_count": null,
   "metadata": {},
   "outputs": [],
   "source": []
  },
  {
   "cell_type": "code",
   "execution_count": null,
   "metadata": {
    "ExecuteTime": {
     "end_time": "2020-09-11T07:12:37.789299Z",
     "start_time": "2020-09-11T07:12:37.712723Z"
    }
   },
   "outputs": [],
   "source": [
    "## Change the data types of these 7 features "
   ]
  },
  {
   "cell_type": "code",
   "execution_count": null,
   "metadata": {},
   "outputs": [],
   "source": []
  },
  {
   "cell_type": "code",
   "execution_count": null,
   "metadata": {},
   "outputs": [],
   "source": []
  },
  {
   "cell_type": "markdown",
   "metadata": {},
   "source": [
    "#### Making different list for categorical columns and numerical columns\n"
   ]
  },
  {
   "cell_type": "code",
   "execution_count": null,
   "metadata": {},
   "outputs": [],
   "source": []
  },
  {
   "cell_type": "markdown",
   "metadata": {},
   "source": [
    "#### Describe for numerical and categorical columns"
   ]
  },
  {
   "cell_type": "code",
   "execution_count": null,
   "metadata": {},
   "outputs": [],
   "source": []
  },
  {
   "cell_type": "code",
   "execution_count": null,
   "metadata": {},
   "outputs": [],
   "source": []
  },
  {
   "cell_type": "markdown",
   "metadata": {
    "colab_type": "text",
    "id": "OHE49wx_-Qrn"
   },
   "source": [
    "### unique values for categorical variables"
   ]
  },
  {
   "cell_type": "code",
   "execution_count": null,
   "metadata": {},
   "outputs": [],
   "source": []
  },
  {
   "cell_type": "code",
   "execution_count": null,
   "metadata": {
    "ExecuteTime": {
     "end_time": "2020-09-11T07:12:38.682440Z",
     "start_time": "2020-09-11T07:12:38.596458Z"
    },
    "colab": {
     "base_uri": "https://localhost:8080/",
     "height": 515
    },
    "colab_type": "code",
    "id": "6aykwVT9-Qr4",
    "outputId": "a5c0b365-fdfa-4401-a06a-f104bc5bd303"
   },
   "outputs": [],
   "source": [
    "# Are there any missing values ?\n"
   ]
  },
  {
   "cell_type": "code",
   "execution_count": null,
   "metadata": {
    "ExecuteTime": {
     "end_time": "2020-09-11T07:12:38.767308Z",
     "start_time": "2020-09-11T07:12:38.682440Z"
    }
   },
   "outputs": [],
   "source": [
    "## All independent features have missing values"
   ]
  },
  {
   "cell_type": "code",
   "execution_count": null,
   "metadata": {
    "ExecuteTime": {
     "end_time": "2020-09-11T07:12:38.855906Z",
     "start_time": "2020-09-11T07:12:38.771416Z"
    }
   },
   "outputs": [],
   "source": [
    "## Are there any duplicate records\n",
    "\n",
    "# Check for duplicate data\n"
   ]
  },
  {
   "cell_type": "code",
   "execution_count": null,
   "metadata": {
    "ExecuteTime": {
     "end_time": "2020-09-11T07:12:38.924593Z",
     "start_time": "2020-09-11T07:12:38.857901Z"
    }
   },
   "outputs": [],
   "source": [
    "## Let's rename columns to remove space before we impute\n"
   ]
  },
  {
   "cell_type": "markdown",
   "metadata": {},
   "source": [
    "## Imputation of all missing values with the bext possible option"
   ]
  },
  {
   "cell_type": "code",
   "execution_count": null,
   "metadata": {},
   "outputs": [],
   "source": []
  },
  {
   "cell_type": "markdown",
   "metadata": {
    "ExecuteTime": {
     "end_time": "2020-04-21T05:12:56.536229Z",
     "start_time": "2020-04-21T05:12:56.533238Z"
    }
   },
   "source": [
    "**Imputing the object variables in a loop using mode. Important to note that after imputation these variables will become numeric as the imputation values are numbers and hence the same needs to be converted in to object one more time.**"
   ]
  },
  {
   "cell_type": "code",
   "execution_count": null,
   "metadata": {},
   "outputs": [],
   "source": []
  },
  {
   "cell_type": "code",
   "execution_count": null,
   "metadata": {
    "ExecuteTime": {
     "end_time": "2020-09-11T07:12:39.827793Z",
     "start_time": "2020-09-11T07:12:39.389211Z"
    },
    "scrolled": false
   },
   "outputs": [],
   "source": [
    "# construct box plot for continuous variables\n"
   ]
  },
  {
   "cell_type": "markdown",
   "metadata": {},
   "source": [
    "\n",
    "#### No possible outliers are present here in \"age\", we will use mean to impute null values in \"age\" column"
   ]
  },
  {
   "cell_type": "code",
   "execution_count": null,
   "metadata": {},
   "outputs": [],
   "source": []
  },
  {
   "cell_type": "code",
   "execution_count": null,
   "metadata": {
    "ExecuteTime": {
     "end_time": "2020-09-11T07:12:39.930913Z",
     "start_time": "2020-09-11T07:12:39.836847Z"
    }
   },
   "outputs": [],
   "source": [
    "#All other variables have possible ouliers and hence median would be used for imputaiton"
   ]
  },
  {
   "cell_type": "code",
   "execution_count": null,
   "metadata": {
    "ExecuteTime": {
     "end_time": "2020-09-11T07:12:40.015755Z",
     "start_time": "2020-09-11T07:12:39.931911Z"
    }
   },
   "outputs": [],
   "source": []
  },
  {
   "cell_type": "code",
   "execution_count": null,
   "metadata": {},
   "outputs": [],
   "source": []
  },
  {
   "cell_type": "code",
   "execution_count": null,
   "metadata": {
    "ExecuteTime": {
     "end_time": "2020-09-11T07:12:40.268969Z",
     "start_time": "2020-09-11T07:12:40.177569Z"
    }
   },
   "outputs": [],
   "source": [
    "### All null values have been appropriately imputed"
   ]
  },
  {
   "cell_type": "code",
   "execution_count": null,
   "metadata": {
    "ExecuteTime": {
     "end_time": "2020-09-11T07:12:40.353407Z",
     "start_time": "2020-09-11T07:12:40.269967Z"
    }
   },
   "outputs": [],
   "source": [
    "## Recheck the info\n"
   ]
  },
  {
   "cell_type": "code",
   "execution_count": null,
   "metadata": {
    "ExecuteTime": {
     "end_time": "2020-09-11T07:12:40.472464Z",
     "start_time": "2020-09-11T07:12:40.353407Z"
    }
   },
   "outputs": [],
   "source": [
    "## Recheck the unique values\n"
   ]
  },
  {
   "cell_type": "code",
   "execution_count": null,
   "metadata": {},
   "outputs": [],
   "source": []
  },
  {
   "cell_type": "markdown",
   "metadata": {},
   "source": [
    "### Univariate Analysis"
   ]
  },
  {
   "cell_type": "code",
   "execution_count": null,
   "metadata": {},
   "outputs": [],
   "source": []
  },
  {
   "cell_type": "markdown",
   "metadata": {
    "ExecuteTime": {
     "end_time": "2020-04-20T05:10:17.927857Z",
     "start_time": "2020-04-20T05:10:17.924865Z"
    }
   },
   "source": [
    "**There are some possible outliers and the same would be treated accordingly. Skewness is not observed in the continuous variables**"
   ]
  },
  {
   "cell_type": "markdown",
   "metadata": {},
   "source": [
    "###  Bivariate and Multivariate Analysis"
   ]
  },
  {
   "cell_type": "code",
   "execution_count": null,
   "metadata": {},
   "outputs": [],
   "source": []
  },
  {
   "cell_type": "markdown",
   "metadata": {
    "ExecuteTime": {
     "end_time": "2020-04-20T05:22:45.617168Z",
     "start_time": "2020-04-20T05:22:45.611186Z"
    }
   },
   "source": [
    "**Younger people have less probability of Heart Attack. This pattern is clearly visible, However probability of heart attack is low even for old age people, as per the above strip plot.**"
   ]
  },
  {
   "cell_type": "code",
   "execution_count": null,
   "metadata": {},
   "outputs": [],
   "source": []
  },
  {
   "cell_type": "markdown",
   "metadata": {
    "ExecuteTime": {
     "end_time": "2020-04-20T05:10:19.976378Z",
     "start_time": "2020-04-20T05:10:19.972388Z"
    }
   },
   "source": [
    "**Less count of cigperday, lesser probability of heart attack. However data set has records wherein probability of heart attack is zero and total count of cigperday is quite high**"
   ]
  },
  {
   "cell_type": "code",
   "execution_count": null,
   "metadata": {},
   "outputs": [],
   "source": []
  },
  {
   "cell_type": "markdown",
   "metadata": {
    "ExecuteTime": {
     "end_time": "2020-04-20T05:10:20.337411Z",
     "start_time": "2020-04-20T05:10:20.274581Z"
    }
   },
   "source": [
    "**Less total cholesterol , less chances of Heart Attack.  Density is high for Heart Attack =1 when total cholesterol is high.**"
   ]
  },
  {
   "cell_type": "code",
   "execution_count": null,
   "metadata": {},
   "outputs": [],
   "source": []
  },
  {
   "cell_type": "markdown",
   "metadata": {
    "ExecuteTime": {
     "end_time": "2020-04-20T05:10:20.838072Z",
     "start_time": "2020-04-20T05:10:20.704431Z"
    }
   },
   "source": [
    "**Low systolic BP , less chances of Heart Attack.  However even if systolic BP is high, chances of Heart Attack is low.**\n"
   ]
  },
  {
   "cell_type": "code",
   "execution_count": null,
   "metadata": {},
   "outputs": [],
   "source": []
  },
  {
   "cell_type": "code",
   "execution_count": null,
   "metadata": {
    "ExecuteTime": {
     "end_time": "2020-09-11T07:12:45.621970Z",
     "start_time": "2020-09-11T07:12:45.615222Z"
    }
   },
   "outputs": [],
   "source": [
    "# Pattern is similar to systolic BP."
   ]
  },
  {
   "cell_type": "code",
   "execution_count": null,
   "metadata": {},
   "outputs": [],
   "source": []
  },
  {
   "cell_type": "markdown",
   "metadata": {
    "ExecuteTime": {
     "end_time": "2020-04-20T05:15:39.905417Z",
     "start_time": "2020-04-20T05:15:39.899434Z"
    }
   },
   "source": [
    "**Low BMI has low chances of Heart Attack. However the data set has good number of records wherein BMI is low and individuals have suffered heart attack. Need to compare this with other parameters.**"
   ]
  },
  {
   "cell_type": "code",
   "execution_count": null,
   "metadata": {},
   "outputs": [],
   "source": []
  },
  {
   "cell_type": "markdown",
   "metadata": {
    "ExecuteTime": {
     "end_time": "2020-04-20T05:10:22.070775Z",
     "start_time": "2020-04-20T05:10:21.968050Z"
    }
   },
   "source": [
    "**Lesser heart rate less chances of heart attack. Very clear pattern visible**"
   ]
  },
  {
   "cell_type": "code",
   "execution_count": null,
   "metadata": {},
   "outputs": [],
   "source": []
  },
  {
   "cell_type": "code",
   "execution_count": null,
   "metadata": {
    "ExecuteTime": {
     "end_time": "2020-09-11T07:12:46.228641Z",
     "start_time": "2020-09-11T07:12:46.221186Z"
    }
   },
   "outputs": [],
   "source": [
    "## Higher value of glucose, higher chances of heart attack"
   ]
  },
  {
   "cell_type": "markdown",
   "metadata": {
    "colab_type": "text",
    "id": "D7RiXPbP-QsR"
   },
   "source": [
    "### Correlation Plot"
   ]
  },
  {
   "cell_type": "code",
   "execution_count": null,
   "metadata": {},
   "outputs": [],
   "source": []
  },
  {
   "cell_type": "markdown",
   "metadata": {
    "colab_type": "text",
    "id": "NiJDsPXv-QsX"
   },
   "source": [
    "As expected, systolic BP and Diastolic BP are highly correlated. One of them would be dropped."
   ]
  },
  {
   "cell_type": "code",
   "execution_count": null,
   "metadata": {
    "ExecuteTime": {
     "end_time": "2020-09-11T07:12:46.991013Z",
     "start_time": "2020-09-11T07:12:46.983606Z"
    },
    "colab": {},
    "colab_type": "code",
    "id": "iDzuqgKE-QsY"
   },
   "outputs": [],
   "source": [
    "# Dropping Systolic_BP\n"
   ]
  },
  {
   "cell_type": "code",
   "execution_count": null,
   "metadata": {
    "ExecuteTime": {
     "end_time": "2020-09-11T07:13:44.879437Z",
     "start_time": "2020-09-11T07:13:44.871105Z"
    }
   },
   "outputs": [],
   "source": [
    "#### get_dummies of the object variables"
   ]
  },
  {
   "cell_type": "code",
   "execution_count": null,
   "metadata": {},
   "outputs": [],
   "source": []
  },
  {
   "cell_type": "markdown",
   "metadata": {
    "ExecuteTime": {
     "end_time": "2020-04-20T05:10:55.741749Z",
     "start_time": "2020-04-20T05:10:55.658936Z"
    }
   },
   "source": [
    "**Drop First is used to ensure that multiple columns created based on the levels of categorical variable are not included else it will result in to \n",
    "multicollinearity . This is done to ensure that we do not land in to dummy trap.**"
   ]
  },
  {
   "cell_type": "code",
   "execution_count": null,
   "metadata": {},
   "outputs": [],
   "source": []
  },
  {
   "cell_type": "markdown",
   "metadata": {
    "colab_type": "text",
    "id": "hTWDyHpy-Qsg"
   },
   "source": [
    "### Outlier Checks"
   ]
  },
  {
   "cell_type": "code",
   "execution_count": null,
   "metadata": {
    "ExecuteTime": {
     "end_time": "2020-09-11T07:13:46.008392Z",
     "start_time": "2020-09-11T07:13:45.271613Z"
    },
    "colab": {
     "base_uri": "https://localhost:8080/",
     "height": 707
    },
    "colab_type": "code",
    "id": "M7YyhpWA-Qsg",
    "outputId": "f662ec60-ed3b-4043-c53b-fe4c6385015e"
   },
   "outputs": [],
   "source": [
    "# construct box plot for continuous variables\n"
   ]
  },
  {
   "cell_type": "markdown",
   "metadata": {
    "ExecuteTime": {
     "end_time": "2020-04-20T05:10:56.267309Z",
     "start_time": "2020-04-20T05:10:56.263320Z"
    }
   },
   "source": [
    "**Except for age, all other continuous variables have possible outliers**"
   ]
  },
  {
   "cell_type": "markdown",
   "metadata": {},
   "source": [
    "### outlier treatment"
   ]
  },
  {
   "cell_type": "code",
   "execution_count": null,
   "metadata": {},
   "outputs": [],
   "source": []
  },
  {
   "cell_type": "markdown",
   "metadata": {},
   "source": [
    "### Scaling the variables as continuous variables have different weightage using min-max technique"
   ]
  },
  {
   "cell_type": "code",
   "execution_count": null,
   "metadata": {},
   "outputs": [],
   "source": []
  },
  {
   "cell_type": "code",
   "execution_count": null,
   "metadata": {
    "ExecuteTime": {
     "end_time": "2020-09-11T07:13:46.675167Z",
     "start_time": "2020-09-11T07:13:46.595788Z"
    }
   },
   "outputs": [],
   "source": [
    "### removing the correlated variable which was dropped earlier and target variable\n"
   ]
  },
  {
   "cell_type": "code",
   "execution_count": null,
   "metadata": {
    "ExecuteTime": {
     "end_time": "2020-09-11T07:13:46.842448Z",
     "start_time": "2020-09-11T07:13:46.769681Z"
    }
   },
   "outputs": [],
   "source": [
    "## Check if the variables have been scaled or not\n"
   ]
  },
  {
   "cell_type": "markdown",
   "metadata": {
    "colab_type": "text",
    "id": "NvFP87-D-Qsx"
   },
   "source": [
    "### Train-Test Split"
   ]
  },
  {
   "cell_type": "code",
   "execution_count": null,
   "metadata": {},
   "outputs": [],
   "source": []
  },
  {
   "cell_type": "code",
   "execution_count": null,
   "metadata": {
    "ExecuteTime": {
     "end_time": "2020-09-11T07:13:47.027971Z",
     "start_time": "2020-09-11T07:13:46.940325Z"
    },
    "colab": {},
    "colab_type": "code",
    "id": "t8wwRu0A-Qsx"
   },
   "outputs": [],
   "source": [
    "# Copy all the predictor variables into X dataframe\n",
    "\n",
    "# Copy target into the y dataframe.  \n"
   ]
  },
  {
   "cell_type": "code",
   "execution_count": null,
   "metadata": {},
   "outputs": [],
   "source": []
  },
  {
   "cell_type": "code",
   "execution_count": null,
   "metadata": {
    "ExecuteTime": {
     "end_time": "2020-09-11T07:21:31.826146Z",
     "start_time": "2020-09-11T07:21:31.817997Z"
    },
    "colab": {},
    "colab_type": "code",
    "id": "7_SLrCcj-Qs4"
   },
   "outputs": [],
   "source": [
    "# Split X and y into training and test set in 75:25 ratio\n",
    "\n"
   ]
  },
  {
   "cell_type": "markdown",
   "metadata": {},
   "source": [
    "## Ada Boost"
   ]
  },
  {
   "cell_type": "code",
   "execution_count": null,
   "metadata": {
    "ExecuteTime": {
     "end_time": "2020-09-11T07:13:49.101672Z",
     "start_time": "2020-09-11T07:13:48.885705Z"
    }
   },
   "outputs": [],
   "source": [
    "## Performance Matrix on train data set\n"
   ]
  },
  {
   "cell_type": "code",
   "execution_count": null,
   "metadata": {
    "ExecuteTime": {
     "end_time": "2020-09-11T07:13:49.249024Z",
     "start_time": "2020-09-11T07:13:49.104847Z"
    }
   },
   "outputs": [],
   "source": [
    "## Performance Matrix on test data set\n"
   ]
  },
  {
   "cell_type": "markdown",
   "metadata": {},
   "source": [
    "## Gradient Boosting"
   ]
  },
  {
   "cell_type": "code",
   "execution_count": null,
   "metadata": {},
   "outputs": [],
   "source": []
  },
  {
   "cell_type": "markdown",
   "metadata": {},
   "source": [
    "## Decision Tree"
   ]
  },
  {
   "cell_type": "code",
   "execution_count": null,
   "metadata": {
    "ExecuteTime": {
     "end_time": "2020-09-11T07:13:51.888913Z",
     "start_time": "2020-09-11T07:13:51.855146Z"
    }
   },
   "outputs": [],
   "source": []
  },
  {
   "cell_type": "code",
   "execution_count": null,
   "metadata": {
    "ExecuteTime": {
     "end_time": "2020-09-11T07:13:51.979648Z",
     "start_time": "2020-09-11T07:13:51.889945Z"
    }
   },
   "outputs": [],
   "source": [
    "## Performance Matrix on train data set\n"
   ]
  },
  {
   "cell_type": "code",
   "execution_count": null,
   "metadata": {
    "ExecuteTime": {
     "end_time": "2020-09-11T07:13:52.049290Z",
     "start_time": "2020-09-11T07:13:51.981293Z"
    }
   },
   "outputs": [],
   "source": [
    "## Performance Matrix on test data set\n"
   ]
  },
  {
   "cell_type": "markdown",
   "metadata": {},
   "source": [
    "## Random Forest"
   ]
  },
  {
   "cell_type": "code",
   "execution_count": null,
   "metadata": {},
   "outputs": [],
   "source": []
  },
  {
   "cell_type": "code",
   "execution_count": null,
   "metadata": {
    "ExecuteTime": {
     "end_time": "2020-09-11T07:23:22.775046Z",
     "start_time": "2020-09-11T07:23:22.767367Z"
    }
   },
   "outputs": [],
   "source": [
    "## Performance Matrix on train data set\n"
   ]
  },
  {
   "cell_type": "code",
   "execution_count": null,
   "metadata": {
    "ExecuteTime": {
     "end_time": "2020-09-11T07:13:53.392692Z",
     "start_time": "2020-09-11T07:13:53.262673Z"
    }
   },
   "outputs": [],
   "source": [
    "## Performance Matrix on test data set\n"
   ]
  },
  {
   "cell_type": "markdown",
   "metadata": {
    "colab_type": "text",
    "id": "dKkwNI-G-Qtw"
   },
   "source": [
    "## Conclusion"
   ]
  },
  {
   "cell_type": "markdown",
   "metadata": {
    "ExecuteTime": {
     "end_time": "2020-04-20T05:11:09.542515Z",
     "start_time": "2020-04-20T05:11:09.524564Z"
    }
   },
   "source": [
    "**So we will select models which have performed approximately similar on the train and test data set and apply smote on the same to check if the performance has improved or not i.e. Naive Bayes and KNN**"
   ]
  },
  {
   "cell_type": "markdown",
   "metadata": {},
   "source": [
    "## SMOTE "
   ]
  },
  {
   "cell_type": "code",
   "execution_count": null,
   "metadata": {
    "ExecuteTime": {
     "end_time": "2020-09-11T07:13:56.427194Z",
     "start_time": "2020-09-11T07:13:56.419143Z"
    }
   },
   "outputs": [],
   "source": [
    "## !pip install imbalanced-learn\n",
    "\n"
   ]
  },
  {
   "cell_type": "code",
   "execution_count": null,
   "metadata": {
    "ExecuteTime": {
     "end_time": "2020-09-11T07:13:56.602536Z",
     "start_time": "2020-09-11T07:13:56.430087Z"
    }
   },
   "outputs": [],
   "source": [
    "from imblearn.over_sampling import SMOTE"
   ]
  },
  {
   "cell_type": "code",
   "execution_count": null,
   "metadata": {},
   "outputs": [],
   "source": []
  },
  {
   "cell_type": "markdown",
   "metadata": {},
   "source": [
    "**SMOTE is only applied on the train data set**"
   ]
  },
  {
   "cell_type": "code",
   "execution_count": null,
   "metadata": {},
   "outputs": [],
   "source": []
  }
 ],
 "metadata": {
  "colab": {
   "collapsed_sections": [],
   "name": "Multiple_Linear_Regression_Food_Solution_final.ipynb",
   "provenance": []
  },
  "kernelspec": {
   "display_name": "Python 3 (ipykernel)",
   "language": "python",
   "name": "python3"
  },
  "language_info": {
   "codemirror_mode": {
    "name": "ipython",
    "version": 3
   },
   "file_extension": ".py",
   "mimetype": "text/x-python",
   "name": "python",
   "nbconvert_exporter": "python",
   "pygments_lexer": "ipython3",
   "version": "3.11.5"
  },
  "toc": {
   "base_numbering": 1,
   "nav_menu": {},
   "number_sections": true,
   "sideBar": true,
   "skip_h1_title": false,
   "title_cell": "Table of Contents",
   "title_sidebar": "Contents",
   "toc_cell": false,
   "toc_position": {},
   "toc_section_display": true,
   "toc_window_display": false
  },
  "varInspector": {
   "cols": {
    "lenName": 16,
    "lenType": 16,
    "lenVar": 40
   },
   "kernels_config": {
    "python": {
     "delete_cmd_postfix": "",
     "delete_cmd_prefix": "del ",
     "library": "var_list.py",
     "varRefreshCmd": "print(var_dic_list())"
    },
    "r": {
     "delete_cmd_postfix": ") ",
     "delete_cmd_prefix": "rm(",
     "library": "var_list.r",
     "varRefreshCmd": "cat(var_dic_list()) "
    }
   },
   "types_to_exclude": [
    "module",
    "function",
    "builtin_function_or_method",
    "instance",
    "_Feature"
   ],
   "window_display": false
  }
 },
 "nbformat": 4,
 "nbformat_minor": 1
}
